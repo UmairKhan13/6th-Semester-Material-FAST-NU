{
 "cells": [
  {
   "cell_type": "code",
   "execution_count": 1,
   "metadata": {},
   "outputs": [
    {
     "name": "stdout",
     "output_type": "stream",
     "text": [
      "Enter source node name : arad\n",
      "Enter destination node name : bucharest\n"
     ]
    }
   ],
   "source": [
    "source=input(\"Enter source node name : \")\n",
    "destination=input(\"Enter destination node name : \")"
   ]
  },
  {
   "cell_type": "code",
   "execution_count": null,
   "metadata": {},
   "outputs": [],
   "source": []
  },
  {
   "cell_type": "code",
   "execution_count": 2,
   "metadata": {},
   "outputs": [],
   "source": [
    "def BFS(G,so,ds):\n",
    "    if so==ds:\n",
    "        return(\"source and destination are same\",ds)\n",
    "    visited = []\n",
    "    queue = [[so]]\n",
    "    while queue:\n",
    "        pathway=queue.pop(0)\n",
    "        node=pathway[-1]\n",
    "        if node not in visited:\n",
    "            for child in G[node]:\n",
    "                new_pathway= list(pathway)\n",
    "                new_pathway.append(child)\n",
    "                queue.append(new_pathway)\n",
    "                if child==ds:\n",
    "                    return new_pathway\n",
    "            visited.append(node)"
   ]
  },
  {
   "cell_type": "code",
   "execution_count": null,
   "metadata": {},
   "outputs": [],
   "source": []
  },
  {
   "cell_type": "code",
   "execution_count": 3,
   "metadata": {},
   "outputs": [],
   "source": [
    "def UCS(G,so,ds):\n",
    "    if so==ds:\n",
    "        return(\"source and destination are same\",ds) \n",
    "    from queue import PriorityQueue\n",
    "    visited = []                 \n",
    "    qu = PriorityQueue()       \n",
    "    qu.put((0, so, [so]))             \n",
    "    while not qu.empty(): \n",
    "        cost, currentnode, pathway = qu.get()\n",
    "        visited.append(currentnode)   \n",
    "        if currentnode==ds:     \n",
    "            return pathway             \n",
    "        else:\n",
    "            for child in G[currentnode]:\n",
    "                if child not in visited:\n",
    "                    qu.put((path_cost(pathway+[child]),child,pathway+[child]))"
   ]
  },
  {
   "cell_type": "code",
   "execution_count": null,
   "metadata": {},
   "outputs": [],
   "source": []
  },
  {
   "cell_type": "code",
   "execution_count": 4,
   "metadata": {},
   "outputs": [],
   "source": [
    "def h_v(n):\n",
    "    if n==\"arad\":\n",
    "     return(366)\n",
    "    elif n==\"bucharest\":\n",
    "     return(0)\n",
    "    elif n==\"craiova\":\n",
    "     return(160)\n",
    "    elif n==\"drobeta\":\n",
    "     return(242)\n",
    "    elif n==\"eforie\":\n",
    "     return(161)\n",
    "    elif n==\"fagaras\":\n",
    "     return(176)\n",
    "    elif n==\"giurgiu\":\n",
    "     return(77)\n",
    "    elif n==\"hirsova\":\n",
    "     return(151)\n",
    "    elif n==\"iasi\":\n",
    "     return(226)\n",
    "    elif n==\"lugoj\":\n",
    "     return(244)\n",
    "    elif n==\"mehadia\":\n",
    "     return(241)\n",
    "    elif n==\"neamt\":\n",
    "     return(234)\n",
    "    elif n==\"oradea\":\n",
    "     return(380)\n",
    "    elif n==\"pitesti\":\n",
    "     return(100)\n",
    "    elif n==\"rimnicu vilcea\":\n",
    "     return(193)\n",
    "    elif n==\"sibiu\":\n",
    "     return(253)\n",
    "    elif n==\"timisoara\":\n",
    "     return(329)\n",
    "    elif n==\"urziceni\":\n",
    "     return(80)\n",
    "    elif n==\"vaslui\":\n",
    "     return(199)\n",
    "    elif n==\"zerind\":\n",
    "     return(374)"
   ]
  },
  {
   "cell_type": "code",
   "execution_count": null,
   "metadata": {},
   "outputs": [],
   "source": []
  },
  {
   "cell_type": "code",
   "execution_count": 5,
   "metadata": {},
   "outputs": [],
   "source": [
    "def GBFS(G,so,ds):\n",
    "    if(so==ds):\n",
    "        return(\"source and destination are same\",ds) \n",
    "    from queue import PriorityQueue\n",
    "    qu = PriorityQueue()                                          \n",
    "    qu.put((h_v(so),so,[so]))              \n",
    "    while not qu.empty():\n",
    "       heuristiccost,currentnode,pathway = qu.get()\n",
    "       if currentnode==ds:    \n",
    "            return pathway             \n",
    "       else:\n",
    "            for child in G[currentnode]:\n",
    "                    qu.put((h_v(child),child,pathway+[child]))               "
   ]
  },
  {
   "cell_type": "code",
   "execution_count": null,
   "metadata": {},
   "outputs": [],
   "source": []
  },
  {
   "cell_type": "code",
   "execution_count": 6,
   "metadata": {},
   "outputs": [],
   "source": [
    "def DLS(G,currentnode,ds,visited,limit,d,pathway):\n",
    "    visited.append(currentnode)\n",
    "    if currentnode==ds:\n",
    "      global path_way\n",
    "      path_way=pathway\n",
    "      global found\n",
    "      found=True\n",
    "      return(True)\n",
    "    if (limit<=d):\n",
    "      return(False)\n",
    "    d=d+1\n",
    "    for child in G[currentnode]:\n",
    "        if child not in visited:\n",
    "            DLS(G,child,ds,visited,limit,d,pathway+[child])"
   ]
  },
  {
   "cell_type": "code",
   "execution_count": null,
   "metadata": {},
   "outputs": [],
   "source": []
  },
  {
   "cell_type": "code",
   "execution_count": 7,
   "metadata": {},
   "outputs": [],
   "source": [
    "def IDDFS(G,so,ds):\n",
    "   for limit in range(1,30):\n",
    "     if found==False:\n",
    "       DLS(G,so,ds,[],limit,0,[so])"
   ]
  },
  {
   "cell_type": "code",
   "execution_count": null,
   "metadata": {},
   "outputs": [],
   "source": []
  },
  {
   "cell_type": "code",
   "execution_count": null,
   "metadata": {},
   "outputs": [],
   "source": []
  },
  {
   "cell_type": "code",
   "execution_count": 8,
   "metadata": {},
   "outputs": [],
   "source": [
    "import networkx as nx\n",
    "from matplotlib import pyplot as plt\n",
    "G=nx.Graph()\n",
    "G.add_nodes_from([\"arad\",\"bucharest\",\"craiova\",\"drobeta\",\"eforie\",\"fagaras\",\"giurgiu\",\"hirsova\",\"iasi\",\"lugoj\",\"mehadia\",\"neamt\",\"oradea\",\"pitesti\",\"rimnicu vilcea\",\"sibiu\",\"timisoara\",\"urziceni\",\"vaslui\",\"zerind\"])\n",
    "\n",
    "G.add_edge(\"oradea\",\"zerind\",weight=71)\n",
    "G.add_edge(\"zerind\",\"arad\",weight=75)\n",
    "G.add_edge(\"arad\",\"timisoara\",weight=118)\n",
    "G.add_edge(\"timisoara\",\"lugoj\",weight=111)\n",
    "G.add_edge(\"lugoj\",\"mehadia\",weight=70)\n",
    "G.add_edge(\"mehadia\",\"drobeta\",weight=75)\n",
    "G.add_edge(\"drobeta\",\"craiova\",weight=120)\n",
    "G.add_edge(\"craiova\",\"pitesti\",weight=138)\n",
    "G.add_edge(\"craiova\",\"rimnicu vilcea\",weight=146)\n",
    "G.add_edge(\"rimnicu vilcea\",\"pitesti\",weight=97)\n",
    "G.add_edge(\"rimnicu vilcea\",\"sibiu\",weight=80)\n",
    "G.add_edge(\"oradea\",\"sibiu\",weight=151)\n",
    "G.add_edge(\"arad\",\"sibiu\",weight=140)\n",
    "G.add_edge(\"sibiu\",\"fagaras\",weight=99)\n",
    "G.add_edge(\"pitesti\",\"bucharest\",weight=101)\n",
    "G.add_edge(\"fagaras\",\"bucharest\",weight=211)\n",
    "G.add_edge(\"urziceni\",\"bucharest\",weight=85)\n",
    "G.add_edge(\"giurgiu\",\"bucharest\",weight=90)\n",
    "G.add_edge(\"urziceni\",\"hirsova\",weight=98)\n",
    "G.add_edge(\"hirsova\",\"eforie\",weight=86)\n",
    "G.add_edge(\"urziceni\",\"vaslui\",weight=142)\n",
    "G.add_edge(\"vaslui\",\"iasi\",weight=92)\n",
    "G.add_edge(\"iasi\",\"neamt\",weight=87)"
   ]
  },
  {
   "cell_type": "code",
   "execution_count": null,
   "metadata": {},
   "outputs": [],
   "source": []
  },
  {
   "cell_type": "code",
   "execution_count": null,
   "metadata": {},
   "outputs": [],
   "source": []
  },
  {
   "cell_type": "code",
   "execution_count": null,
   "metadata": {},
   "outputs": [],
   "source": []
  },
  {
   "cell_type": "code",
   "execution_count": 9,
   "metadata": {},
   "outputs": [],
   "source": [
    "def path_cost(pa):\n",
    "    cost=0\n",
    "    if pa[0]==\"source and destination are same\":\n",
    "      return(cost)\n",
    "    for i in range(1,len(pa)):\n",
    "            cost=cost+(G[pa[i-1]][pa[i]]['weight'])\n",
    "    \n",
    "    return (cost)"
   ]
  },
  {
   "cell_type": "code",
   "execution_count": null,
   "metadata": {},
   "outputs": [],
   "source": []
  },
  {
   "cell_type": "code",
   "execution_count": 10,
   "metadata": {},
   "outputs": [],
   "source": [
    "a1=BFS(G,source,destination)\n",
    "a2=UCS(G,source,destination)\n",
    "a3=GBFS(G,source,destination)\n",
    "found=False\n",
    "IDDFS(G,source,destination)"
   ]
  },
  {
   "cell_type": "code",
   "execution_count": null,
   "metadata": {},
   "outputs": [],
   "source": []
  },
  {
   "cell_type": "code",
   "execution_count": 11,
   "metadata": {},
   "outputs": [
    {
     "name": "stdout",
     "output_type": "stream",
     "text": [
      "Algorithm  UCS  gives cost  418  and pathway is  ['arad', 'sibiu', 'rimnicu vilcea', 'pitesti', 'bucharest']\n",
      "Algorithm  BFS  gives cost  450  and pathway is  ['arad', 'sibiu', 'fagaras', 'bucharest']\n",
      "Algorithm  GBFS  gives cost  450  and pathway is  ['arad', 'sibiu', 'fagaras', 'bucharest']\n",
      "Algorithm  IDDFS  gives cost  607  and pathway is  ['arad', 'zerind', 'oradea', 'sibiu', 'fagaras', 'bucharest']\n"
     ]
    }
   ],
   "source": [
    "from queue import PriorityQueue\n",
    "que=PriorityQueue()\n",
    "que.put((path_cost(a1),a1,\"BFS\"))\n",
    "que.put((path_cost(a2),a2,\"UCS\"))\n",
    "que.put((path_cost(a3),a3,\"GBFS\"))\n",
    "que.put((path_cost(path_way),path_way,\"IDDFS\"))\n",
    "\n",
    "while not que.empty():\n",
    "    cost,path,algo=que.get()\n",
    "    print(\"Algorithm \",algo,\" gives cost \",cost,\" and pathway is \",path)\n",
    "\n"
   ]
  },
  {
   "cell_type": "code",
   "execution_count": null,
   "metadata": {},
   "outputs": [],
   "source": []
  },
  {
   "cell_type": "code",
   "execution_count": null,
   "metadata": {},
   "outputs": [],
   "source": [
    "\n"
   ]
  },
  {
   "cell_type": "code",
   "execution_count": null,
   "metadata": {},
   "outputs": [],
   "source": []
  },
  {
   "cell_type": "code",
   "execution_count": null,
   "metadata": {},
   "outputs": [],
   "source": []
  },
  {
   "cell_type": "code",
   "execution_count": null,
   "metadata": {},
   "outputs": [],
   "source": []
  },
  {
   "cell_type": "code",
   "execution_count": null,
   "metadata": {},
   "outputs": [],
   "source": []
  },
  {
   "cell_type": "code",
   "execution_count": null,
   "metadata": {},
   "outputs": [],
   "source": []
  },
  {
   "cell_type": "code",
   "execution_count": null,
   "metadata": {},
   "outputs": [],
   "source": []
  },
  {
   "cell_type": "code",
   "execution_count": null,
   "metadata": {},
   "outputs": [],
   "source": []
  },
  {
   "cell_type": "code",
   "execution_count": null,
   "metadata": {},
   "outputs": [],
   "source": []
  },
  {
   "cell_type": "code",
   "execution_count": null,
   "metadata": {},
   "outputs": [],
   "source": []
  },
  {
   "cell_type": "code",
   "execution_count": null,
   "metadata": {},
   "outputs": [],
   "source": []
  },
  {
   "cell_type": "code",
   "execution_count": null,
   "metadata": {},
   "outputs": [],
   "source": []
  },
  {
   "cell_type": "code",
   "execution_count": null,
   "metadata": {},
   "outputs": [],
   "source": []
  },
  {
   "cell_type": "code",
   "execution_count": null,
   "metadata": {},
   "outputs": [],
   "source": []
  },
  {
   "cell_type": "code",
   "execution_count": null,
   "metadata": {},
   "outputs": [],
   "source": []
  },
  {
   "cell_type": "code",
   "execution_count": null,
   "metadata": {},
   "outputs": [],
   "source": []
  },
  {
   "cell_type": "code",
   "execution_count": null,
   "metadata": {},
   "outputs": [],
   "source": []
  },
  {
   "cell_type": "code",
   "execution_count": null,
   "metadata": {},
   "outputs": [],
   "source": []
  },
  {
   "cell_type": "code",
   "execution_count": null,
   "metadata": {},
   "outputs": [],
   "source": []
  }
 ],
 "metadata": {
  "kernelspec": {
   "display_name": "Python 3",
   "language": "python",
   "name": "python3"
  },
  "language_info": {
   "codemirror_mode": {
    "name": "ipython",
    "version": 3
   },
   "file_extension": ".py",
   "mimetype": "text/x-python",
   "name": "python",
   "nbconvert_exporter": "python",
   "pygments_lexer": "ipython3",
   "version": "3.7.3"
  }
 },
 "nbformat": 4,
 "nbformat_minor": 2
}
