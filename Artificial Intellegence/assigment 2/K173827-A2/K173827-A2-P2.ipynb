{
 "cells": [
  {
   "cell_type": "code",
   "execution_count": 4,
   "metadata": {},
   "outputs": [
    {
     "name": "stdout",
     "output_type": "stream",
     "text": [
      "Enter the number of queens : 4\n",
      "0 0 1 0 \n",
      "\n",
      "1 0 0 0 \n",
      "\n",
      "0 0 0 1 \n",
      "\n",
      "0 1 0 0 \n",
      "\n"
     ]
    },
    {
     "data": {
      "text/plain": [
       "True"
      ]
     },
     "execution_count": 4,
     "metadata": {},
     "output_type": "execute_result"
    }
   ],
   "source": [
    "def safe_from_leftside_row(board,r,c,n):  # Checking attacking queen from row at left side\n",
    "    for i in range(c): \n",
    "        if board[r][i] == 1: \n",
    "            return False\n",
    "    return(True)\n",
    "\n",
    "\n",
    "\n",
    "\n",
    "def safe_from_leftside_upper_diagonal(board,r,c,n):  # Checking  attacking queen from uppper diagonal at left side\n",
    "    for i, j in zip(range(r, -1, -1),range(c, -1, -1)): \n",
    "        if board[i][j] == 1: \n",
    "            return False\n",
    "    return(True)\n",
    "\n",
    "\n",
    "\n",
    "def safe_from_leftside_lower_diagonaL(board,r,c,n):    # Checking  attacking queen from lower diagonal at left side\n",
    "    for i, j in zip(range(r, n, 1),range(c, -1, -1)): \n",
    "        if board[i][j] == 1: \n",
    "            return False \n",
    "    return(True)\n",
    "\n",
    "\n",
    "\n",
    "def can_put(board,r,c,n):    # Checking if we can put queen at this row and column\n",
    "    return((safe_from_leftside_row(board,r,c,n))and(safe_from_leftside_upper_diagonal(board,r,c,n))and(safe_from_leftside_lower_diagonaL(board,r,c,n))) \n",
    "\n",
    "\n",
    "\n",
    "def solution(board,c,n):        # Function for solving n queen problem \n",
    "    if (c>=n):\n",
    "        return(True)\n",
    "    \n",
    "    for i in range(n):\n",
    "        if(can_put(board,i,c,n)):\n",
    "            board[i][c]=1          # Putting queen\n",
    "            if(solution(board,c+1,n)==True):\n",
    "                return(True)\n",
    "            board[i][c]=0           # Backtracking      \n",
    "    return(False)\n",
    "    \n",
    "\n",
    "    \n",
    "def print_board(board,n):      # Function to print Board\n",
    "    for i in range (n):\n",
    "        for j in range (n):\n",
    "            print(board[i][j],end=\" \")\n",
    "        print(\"\\n\")\n",
    "\n",
    "\n",
    "        \n",
    "def main():\n",
    "    n=int(input(\"Enter the number of queens : \"))        # Taking user input\n",
    "    board = [[0 for x in range(n)] for y in range(n)]    # Making 2d array of n by n\n",
    "    if(solution(board,0,n)==False):                      # Checking possible solution of n queen problem\n",
    "        print(\"Solution of \",n,\" queen problem does not exist.\")\n",
    "        return(False)    \n",
    "    print_board(board,n) # If solution exists printing solution .\n",
    "    return(True)\n",
    "\n",
    "\n",
    "main()\n",
    "    \n",
    "    "
   ]
  },
  {
   "cell_type": "code",
   "execution_count": null,
   "metadata": {},
   "outputs": [],
   "source": []
  },
  {
   "cell_type": "code",
   "execution_count": null,
   "metadata": {},
   "outputs": [],
   "source": []
  }
 ],
 "metadata": {
  "kernelspec": {
   "display_name": "Python 3",
   "language": "python",
   "name": "python3"
  },
  "language_info": {
   "codemirror_mode": {
    "name": "ipython",
    "version": 3
   },
   "file_extension": ".py",
   "mimetype": "text/x-python",
   "name": "python",
   "nbconvert_exporter": "python",
   "pygments_lexer": "ipython3",
   "version": "3.7.3"
  }
 },
 "nbformat": 4,
 "nbformat_minor": 2
}
